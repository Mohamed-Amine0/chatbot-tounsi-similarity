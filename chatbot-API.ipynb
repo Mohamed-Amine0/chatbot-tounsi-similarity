{
 "cells": [
  {
   "cell_type": "code",
   "execution_count": 1,
   "id": "92349514",
   "metadata": {},
   "outputs": [
    {
     "name": "stdout",
     "output_type": "stream",
     "text": [
      "\r",
      "List Trainer: [                    ] 2%"
     ]
    },
    {
     "name": "stderr",
     "output_type": "stream",
     "text": [
      "[nltk_data] Downloading package averaged_perceptron_tagger to\n",
      "[nltk_data]     C:\\Users\\Mohamed-Amine-\n",
      "[nltk_data]     Miladi\\AppData\\Roaming\\nltk_data...\n",
      "[nltk_data]   Package averaged_perceptron_tagger is already up-to-\n",
      "[nltk_data]       date!\n",
      "[nltk_data] Downloading package punkt to C:\\Users\\Mohamed-Amine-\n",
      "[nltk_data]     Miladi\\AppData\\Roaming\\nltk_data...\n",
      "[nltk_data]   Package punkt is already up-to-date!\n",
      "[nltk_data] Downloading package stopwords to C:\\Users\\Mohamed-Amine-\n",
      "[nltk_data]     Miladi\\AppData\\Roaming\\nltk_data...\n",
      "[nltk_data]   Package stopwords is already up-to-date!\n"
     ]
    },
    {
     "name": "stdout",
     "output_type": "stream",
     "text": [
      "List Trainer: [####################] 100%\n",
      "*********************************************************\n",
      "bech tchouf ta9s mtaa bled ekteb : Chnowa ta9s fi + pays\n",
      "bech tchouf e5er a5bar ekteb  : e5er a5bar aala + sujet\n",
      "becht tchouf definition mtaa 7aja ekteb : wiki +Sujet\n",
      "bech to5rej ekteb quit wala exit\n",
      "************************************************************\n",
      "> chnowa ta9s fi New York\n",
      "ta9s: 🤖Fi New York aana temperature :10.5 °C wel humidité : 95%.\n",
      "*********************************************************\n",
      "bech tchouf ta9s mtaa bled ekteb : Chnowa ta9s fi + pays\n",
      "bech tchouf e5er a5bar ekteb  : e5er a5bar aala + sujet\n",
      "becht tchouf definition mtaa 7aja ekteb : wiki +Sujet\n",
      "bech to5rej ekteb quit wala exit\n",
      "************************************************************\n",
      "> :q\n"
     ]
    }
   ],
   "source": [
    "from chatterbot import ChatBot\n",
    "from chatterbot.trainers import ListTrainer\n",
    "#from chatterbot_weather import WeatherLogicAdapter\n",
    "from cleaner import clean_corpus\n",
    "from weather import get_weather\n",
    "from wikipediaprocess import search_wikipedia\n",
    "from newsapi import NewsApiClient\n",
    "\n",
    "\n",
    "newsapi = NewsApiClient(api_key='a1d8789da28b4df282afbabff793c211')\n",
    "\n",
    "\n",
    "chatbot = ChatBot(\"Chatbot tounsi\",logic_adapters=[      {\n",
    "            'import_path': 'chatterbot.logic.MathematicalEvaluation',\n",
    "        },\n",
    "        {'import_path': 'chatterbot.logic.BestMatch',}\n",
    "        ])\n",
    "CORPUS_FILE=\"chat2.txt\"\n",
    "#CORPUS_FILE2=\"chat.txt\"\n",
    "trainer = ListTrainer(chatbot)\n",
    "cleaned_corpus=clean_corpus(CORPUS_FILE)\n",
    "#cleaned_corpus2=clean_corpus(CORPUS_FILE2)\n",
    "trainer.train(cleaned_corpus)\n",
    "#trainer.train(cleaned_corpus2)\n",
    "\n",
    "\n",
    "\n",
    "exit_conditions = (\":q\", \"quit\", \"exit\")\n",
    "while True:\n",
    "    print(\"*********************************************************\\nbech tchouf ta9s mtaa bled ekteb : Chnowa ta9s fi + pays\\nbech tchouf e5er a5bar ekteb  : e5er a5bar aala + sujet\\nbecht tchouf definition mtaa 7aja ekteb : wiki +Sujet\\nbech to5rej ekteb quit wala exit\\n************************************************************\")\n",
    "    query = input(\"> \")\n",
    "    #print(query)\n",
    "    if query in exit_conditions:\n",
    "        break\n",
    "    elif query.startswith(\"chnowa ta9s fi \"):\n",
    "        # Get the country name from the input\n",
    "        country = query.replace(\"chnowa ta9s fi \", \"\")\n",
    "        # Get the weather for the country\n",
    "        weather = get_weather(country)\n",
    "        print(f\"ta9s: {weather}\")\n",
    "    elif query.startswith(\"wiki \"):\n",
    "        topic=query.replace(\"wiki \",\"\")\n",
    "        wiki=search_wikipedia(topic)\n",
    "        print(wiki)\n",
    "    elif query.startswith(\"e5er a5bar aala \"):\n",
    "        theme=query.replace(\"e5er a5bar aala \",\"\")\n",
    "        top_headlines = newsapi.get_everything(q=theme, sort_by='relevancy',language='fr')\n",
    "        for article in top_headlines['articles']:\n",
    "            print(article['title'])\n",
    "\n",
    "\n",
    "    else:\n",
    "        print(f\"🤖 {str(chatbot.get_response(query))}\")"
   ]
  }
 ],
 "metadata": {
  "kernelspec": {
   "display_name": "Python 3 (ipykernel)",
   "language": "python",
   "name": "python3"
  },
  "language_info": {
   "codemirror_mode": {
    "name": "ipython",
    "version": 3
   },
   "file_extension": ".py",
   "mimetype": "text/x-python",
   "name": "python",
   "nbconvert_exporter": "python",
   "pygments_lexer": "ipython3",
   "version": "3.9.12"
  }
 },
 "nbformat": 4,
 "nbformat_minor": 5
}
